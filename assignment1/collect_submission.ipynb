{
 "cells": [
  {
   "cell_type": "code",
   "execution_count": null,
   "id": "ff348a42",
   "metadata": {},
   "outputs": [],
   "source": [
    "from google.colab import drive\n",
    "\n",
    "drive.mount('/content/drive')\n",
    "\n",
    "# TODO: Enter the path in your Drive of the assignment.\n",
    "# e.g. 'cs231n/assignments/assignment1/'\n",
    "FOLDERNAME = None\n",
    "\n",
    "assert FOLDERNAME is not None, \"[!] Enter the foldername.\""
   ]
  },
  {
   "cell_type": "markdown",
   "id": "88d38cd1",
   "metadata": {},
   "source": [
    "# Collect Submission - Zip + Generate PDF \n",
    "\n",
    "Run this notebook once you have completed all the other notebooks: `knn.ipynb`, `svm.ipynb`, `softmax.ipynb`, `two_layer_net.ipynb` and `features.ipynb`).\n",
    "\n",
    "It will:\n",
    "\n",
    "* Generate a zip file of your code (`.py` and `.ipynb`) called `a1_code_submission.zip`.\n",
    "* Convert all notebooks into a single PDF file called `a1_inline_submission.pdf`.\n",
    "\n",
    "If your submission for this step was successful, you should see the following display message:\n",
    "\n",
    "`### Done! Please submit a1_code_submission.zip and a1_inline_submission.pdf to Gradescope. ###`\n",
    "\n",
    "Make sure to download the zip and pdf file locally to your computer, then submit to Gradescope. Congrats on succesfully completing the assignment!"
   ]
  },
  {
   "cell_type": "code",
   "execution_count": 1,
   "id": "e9aa9ce5",
   "metadata": {},
   "outputs": [
    {
     "name": "stdout",
     "output_type": "stream",
     "text": [
      "[WinError 3] 系统找不到指定的路径。: 'drive/My\\\\ Drive'\n",
      "C:\\Users\\LENOVO\\Desktop\\assignment1\n",
      "[WinError 2] 系统找不到指定的文件。: '$FOLDERNAME'\n",
      "C:\\Users\\LENOVO\\Desktop\\assignment1\n"
     ]
    },
    {
     "name": "stderr",
     "output_type": "stream",
     "text": [
      "'sudo' 不是内部或外部命令，也不是可运行的程序\n",
      "或批处理文件。\n"
     ]
    },
    {
     "name": "stdout",
     "output_type": "stream",
     "text": [
      "Collecting PyPDF2\n",
      "  Downloading PyPDF2-2.11.1-py3-none-any.whl (220 kB)\n",
      "Requirement already satisfied: typing-extensions>=3.10.0.0 in c:\\users\\lenovo\\anaconda3\\lib\\site-packages (from PyPDF2) (3.10.0.2)\n",
      "Installing collected packages: PyPDF2\n",
      "Successfully installed PyPDF2-2.11.1\n"
     ]
    },
    {
     "name": "stderr",
     "output_type": "stream",
     "text": [
      "'bash' 不是内部或外部命令，也不是可运行的程序\n",
      "或批处理文件。\n"
     ]
    }
   ],
   "source": [
    "%cd drive/My\\ Drive\n",
    "%cd $FOLDERNAME\n",
    "!sudo apt-get install texlive-xetex texlive-fonts-recommended texlive-generic-recommended\n",
    "!pip install PyPDF2\n",
    "!bash collectSubmission.sh"
   ]
  },
  {
   "cell_type": "code",
   "execution_count": null,
   "id": "f7a40845",
   "metadata": {},
   "outputs": [],
   "source": []
  }
 ],
 "metadata": {
  "kernelspec": {
   "display_name": "Python 3 (ipykernel)",
   "language": "python",
   "name": "python3"
  },
  "language_info": {
   "codemirror_mode": {
    "name": "ipython",
    "version": 3
   },
   "file_extension": ".py",
   "mimetype": "text/x-python",
   "name": "python",
   "nbconvert_exporter": "python",
   "pygments_lexer": "ipython3",
   "version": "3.9.7"
  },
  "toc": {
   "base_numbering": 1,
   "nav_menu": {},
   "number_sections": true,
   "sideBar": true,
   "skip_h1_title": false,
   "title_cell": "Table of Contents",
   "title_sidebar": "Contents",
   "toc_cell": false,
   "toc_position": {},
   "toc_section_display": true,
   "toc_window_display": false
  }
 },
 "nbformat": 4,
 "nbformat_minor": 5
}
