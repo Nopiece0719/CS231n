{
 "cells": [
  {
   "cell_type": "code",
   "execution_count": null,
   "id": "161a3aa0",
   "metadata": {},
   "outputs": [],
   "source": [
    "# This mounts your Google Drive to the Colab VM.\n",
    "from google.colab import drive\n",
    "drive.mount('/content/drive')\n",
    "\n",
    "# TODO: Enter the foldername in your Drive where you have saved the unzipped\n",
    "# assignment folder, e.g. 'cs231n/assignments/assignment1/'\n",
    "FOLDERNAME = None\n",
    "assert FOLDERNAME is not None, \"[!] Enter the foldername.\"\n",
    "\n",
    "# Now that we've mounted your Drive, this ensures that\n",
    "# the Python interpreter of the Colab VM can load\n",
    "# python files from within it.\n",
    "import sys\n",
    "sys.path.append('/content/drive/My Drive/{}'.format(FOLDERNAME))\n",
    "\n",
    "# This downloads the CIFAR-10 dataset to your Drive\n",
    "# if it doesn't already exist.\n",
    "%cd /content/drive/My\\ Drive/$FOLDERNAME/cs231n/datasets/\n",
    "!bash get_datasets.sh\n",
    "%cd /content/drive/My\\ Drive/$FOLDERNAME"
   ]
  },
  {
   "cell_type": "markdown",
   "id": "26fdca1c",
   "metadata": {
    "tags": [
     "pdf-title"
    ]
   },
   "source": [
    "# Softmax exercise\n",
    "\n",
    "*Complete and hand in this completed worksheet (including its outputs and any supporting code outside of the worksheet) with your assignment submission. For more details see the [assignments page](http://vision.stanford.edu/teaching/cs231n/assignments.html) on the course website.*\n",
    "\n",
    "This exercise is analogous to the SVM exercise. You will:\n",
    "\n",
    "- implement a fully-vectorized **loss function** for the Softmax classifier\n",
    "- implement the fully-vectorized expression for its **analytic gradient**\n",
    "- **check your implementation** with numerical gradient\n",
    "- use a validation set to **tune the learning rate and regularization** strength\n",
    "- **optimize** the loss function with **SGD**\n",
    "- **visualize** the final learned weights\n"
   ]
  },
  {
   "cell_type": "code",
   "execution_count": 1,
   "id": "1f12280f",
   "metadata": {
    "tags": [
     "pdf-ignore"
    ]
   },
   "outputs": [],
   "source": [
    "import random\n",
    "import numpy as np\n",
    "from cs231n.data_utils import load_CIFAR10\n",
    "import matplotlib.pyplot as plt\n",
    "\n",
    "%matplotlib inline\n",
    "plt.rcParams['figure.figsize'] = (10.0, 8.0) # set default size of plots\n",
    "plt.rcParams['image.interpolation'] = 'nearest'\n",
    "plt.rcParams['image.cmap'] = 'gray'\n",
    "\n",
    "# for auto-reloading extenrnal modules\n",
    "# see http://stackoverflow.com/questions/1907993/autoreload-of-modules-in-ipython\n",
    "%load_ext autoreload\n",
    "%autoreload 2"
   ]
  },
  {
   "cell_type": "code",
   "execution_count": 2,
   "id": "ab106c82",
   "metadata": {
    "tags": [
     "pdf-ignore"
    ]
   },
   "outputs": [
    {
     "name": "stdout",
     "output_type": "stream",
     "text": [
      "Train data shape:  (49000, 3073)\n",
      "Train labels shape:  (49000,)\n",
      "Validation data shape:  (1000, 3073)\n",
      "Validation labels shape:  (1000,)\n",
      "Test data shape:  (1000, 3073)\n",
      "Test labels shape:  (1000,)\n",
      "dev data shape:  (500, 3073)\n",
      "dev labels shape:  (500,)\n"
     ]
    }
   ],
   "source": [
    "def get_CIFAR10_data(num_training=49000, num_validation=1000, num_test=1000, num_dev=500):\n",
    "    \"\"\"\n",
    "    Load the CIFAR-10 dataset from disk and perform preprocessing to prepare\n",
    "    it for the linear classifier. These are the same steps as we used for the\n",
    "    SVM, but condensed to a single function.  \n",
    "    \"\"\"\n",
    "    # Load the raw CIFAR-10 data\n",
    "    cifar10_dir = 'cs231n/datasets/cifar-10-batches-py'\n",
    "    \n",
    "    # Cleaning up variables to prevent loading data multiple times (which may cause memory issue)\n",
    "    try:\n",
    "       del X_train, y_train\n",
    "       del X_test, y_test\n",
    "       print('Clear previously loaded data.')\n",
    "    except:\n",
    "       pass\n",
    "\n",
    "    X_train, y_train, X_test, y_test = load_CIFAR10(cifar10_dir)\n",
    "    \n",
    "    # subsample the data\n",
    "    mask = list(range(num_training, num_training + num_validation))\n",
    "    X_val = X_train[mask]\n",
    "    y_val = y_train[mask]\n",
    "    mask = list(range(num_training))\n",
    "    X_train = X_train[mask]\n",
    "    y_train = y_train[mask]\n",
    "    mask = list(range(num_test))\n",
    "    X_test = X_test[mask]\n",
    "    y_test = y_test[mask]\n",
    "    mask = np.random.choice(num_training, num_dev, replace=False)\n",
    "    X_dev = X_train[mask]\n",
    "    y_dev = y_train[mask]\n",
    "    \n",
    "    # Preprocessing: reshape the image data into rows\n",
    "    X_train = np.reshape(X_train, (X_train.shape[0], -1))\n",
    "    X_val = np.reshape(X_val, (X_val.shape[0], -1))\n",
    "    X_test = np.reshape(X_test, (X_test.shape[0], -1))\n",
    "    X_dev = np.reshape(X_dev, (X_dev.shape[0], -1))\n",
    "    \n",
    "    # Normalize the data: subtract the mean image\n",
    "    mean_image = np.mean(X_train, axis = 0)\n",
    "    X_train -= mean_image\n",
    "    X_val -= mean_image\n",
    "    X_test -= mean_image\n",
    "    X_dev -= mean_image\n",
    "    \n",
    "    # add bias dimension and transform into columns\n",
    "    X_train = np.hstack([X_train, np.ones((X_train.shape[0], 1))])\n",
    "    X_val = np.hstack([X_val, np.ones((X_val.shape[0], 1))])\n",
    "    X_test = np.hstack([X_test, np.ones((X_test.shape[0], 1))])\n",
    "    X_dev = np.hstack([X_dev, np.ones((X_dev.shape[0], 1))])\n",
    "    \n",
    "    return X_train, y_train, X_val, y_val, X_test, y_test, X_dev, y_dev\n",
    "\n",
    "\n",
    "# Invoke the above function to get our data.\n",
    "X_train, y_train, X_val, y_val, X_test, y_test, X_dev, y_dev = get_CIFAR10_data()\n",
    "print('Train data shape: ', X_train.shape)\n",
    "print('Train labels shape: ', y_train.shape)\n",
    "print('Validation data shape: ', X_val.shape)\n",
    "print('Validation labels shape: ', y_val.shape)\n",
    "print('Test data shape: ', X_test.shape)\n",
    "print('Test labels shape: ', y_test.shape)\n",
    "print('dev data shape: ', X_dev.shape)\n",
    "print('dev labels shape: ', y_dev.shape)"
   ]
  },
  {
   "cell_type": "markdown",
   "id": "4721c3cb",
   "metadata": {},
   "source": [
    "## Softmax Classifier\n",
    "\n",
    "Your code for this section will all be written inside `cs231n/classifiers/softmax.py`.\n"
   ]
  },
  {
   "cell_type": "code",
   "execution_count": 5,
   "id": "d42765cd",
   "metadata": {},
   "outputs": [
    {
     "name": "stdout",
     "output_type": "stream",
     "text": [
      "loss: 2.325383\n",
      "sanity check: 2.302585\n"
     ]
    }
   ],
   "source": [
    "# First implement the naive softmax loss function with nested loops.\n",
    "# Open the file cs231n/classifiers/softmax.py and implement the\n",
    "# softmax_loss_naive function.\n",
    "\n",
    "from cs231n.classifiers.softmax import softmax_loss_naive\n",
    "import time\n",
    "\n",
    "# Generate a random softmax weight matrix and use it to compute the loss.\n",
    "W = np.random.randn(3073, 10) * 0.0001\n",
    "loss, grad = softmax_loss_naive(W, X_dev, y_dev, 0.0)\n",
    "\n",
    "# As a rough sanity check, our loss should be something close to -log(0.1).\n",
    "print('loss: %f' % loss)\n",
    "print('sanity check: %f' % (-np.log(0.1)))"
   ]
  },
  {
   "cell_type": "markdown",
   "id": "6f88764e",
   "metadata": {
    "tags": [
     "pdf-inline"
    ]
   },
   "source": [
    "**Inline Question 1**\n",
    "\n",
    "Why do we expect our loss to be close to -log(0.1)? Explain briefly.**\n",
    "\n",
    "$\\color{blue}{\\textit Your Answer:}$初始时，计算出的s各元素相差不大\n",
    "\n"
   ]
  },
  {
   "cell_type": "code",
   "execution_count": 6,
   "id": "4c2626ef",
   "metadata": {},
   "outputs": [
    {
     "name": "stdout",
     "output_type": "stream",
     "text": [
      "numerical: -1.862327 analytic: -1.862327, relative error: 2.468079e-09\n",
      "numerical: -2.816470 analytic: -2.816470, relative error: 1.340108e-08\n",
      "numerical: 0.878534 analytic: 0.878534, relative error: 6.097794e-11\n",
      "numerical: -0.112107 analytic: -0.112107, relative error: 4.934614e-07\n",
      "numerical: -0.330301 analytic: -0.330301, relative error: 6.242433e-08\n",
      "numerical: -0.188113 analytic: -0.188113, relative error: 1.259308e-07\n",
      "numerical: -0.801754 analytic: -0.801754, relative error: 3.782678e-09\n",
      "numerical: -2.058375 analytic: -2.058375, relative error: 3.478481e-08\n",
      "numerical: 2.869118 analytic: 2.869118, relative error: 1.345298e-08\n",
      "numerical: 2.102509 analytic: 2.102509, relative error: 2.584152e-08\n",
      "numerical: -4.133019 analytic: -4.133019, relative error: 1.417597e-08\n",
      "numerical: 2.258101 analytic: 2.258101, relative error: 1.007364e-08\n",
      "numerical: -2.628492 analytic: -2.628492, relative error: 3.016305e-08\n",
      "numerical: -1.189075 analytic: -1.189075, relative error: 4.757041e-09\n",
      "numerical: -2.729603 analytic: -2.729603, relative error: 3.354220e-08\n",
      "numerical: -1.818325 analytic: -1.818325, relative error: 1.857897e-08\n",
      "numerical: -0.574554 analytic: -0.574554, relative error: 3.303003e-09\n",
      "numerical: 1.499911 analytic: 1.499911, relative error: 7.001935e-09\n",
      "numerical: 0.446669 analytic: 0.446669, relative error: 1.214693e-08\n",
      "numerical: 2.647283 analytic: 2.647283, relative error: 2.749757e-08\n"
     ]
    }
   ],
   "source": [
    "# Complete the implementation of softmax_loss_naive and implement a (naive)\n",
    "# version of the gradient that uses nested loops.\n",
    "loss, grad = softmax_loss_naive(W, X_dev, y_dev, 0.0)\n",
    "\n",
    "# As we did for the SVM, use numeric gradient checking as a debugging tool.\n",
    "# The numeric gradient should be close to the analytic gradient.\n",
    "from cs231n.gradient_check import grad_check_sparse\n",
    "f = lambda w: softmax_loss_naive(w, X_dev, y_dev, 0.0)[0]\n",
    "grad_numerical = grad_check_sparse(f, W, grad, 10)\n",
    "\n",
    "# similar to SVM case, do another gradient check with regularization\n",
    "loss, grad = softmax_loss_naive(W, X_dev, y_dev, 5e1)\n",
    "f = lambda w: softmax_loss_naive(w, X_dev, y_dev, 5e1)[0]\n",
    "grad_numerical = grad_check_sparse(f, W, grad, 10)"
   ]
  },
  {
   "cell_type": "code",
   "execution_count": 7,
   "id": "434e757f",
   "metadata": {},
   "outputs": [
    {
     "name": "stdout",
     "output_type": "stream",
     "text": [
      "naive loss: 2.325383e+00 computed in 0.133030s\n",
      "vectorized loss: 2.325383e+00 computed in 0.011003s\n",
      "Loss difference: 0.000000\n",
      "Gradient difference: 0.000000\n"
     ]
    }
   ],
   "source": [
    "# Now that we have a naive implementation of the softmax loss function and its gradient,\n",
    "# implement a vectorized version in softmax_loss_vectorized.\n",
    "# The two versions should compute the same results, but the vectorized version should be\n",
    "# much faster.\n",
    "tic = time.time()\n",
    "loss_naive, grad_naive = softmax_loss_naive(W, X_dev, y_dev, 0.000005)\n",
    "toc = time.time()\n",
    "print('naive loss: %e computed in %fs' % (loss_naive, toc - tic))\n",
    "\n",
    "from cs231n.classifiers.softmax import softmax_loss_vectorized\n",
    "tic = time.time()\n",
    "loss_vectorized, grad_vectorized = softmax_loss_vectorized(W, X_dev, y_dev, 0.000005)\n",
    "toc = time.time()\n",
    "print('vectorized loss: %e computed in %fs' % (loss_vectorized, toc - tic))\n",
    "\n",
    "# As we did for the SVM, we use the Frobenius norm to compare the two versions\n",
    "# of the gradient.\n",
    "grad_difference = np.linalg.norm(grad_naive - grad_vectorized, ord='fro')\n",
    "print('Loss difference: %f' % np.abs(loss_naive - loss_vectorized))\n",
    "print('Gradient difference: %f' % grad_difference)"
   ]
  },
  {
   "cell_type": "code",
   "execution_count": 11,
   "id": "2e5e374d",
   "metadata": {
    "tags": [
     "code"
    ],
    "test": "tuning"
   },
   "outputs": [
    {
     "name": "stdout",
     "output_type": "stream",
     "text": [
      "lr 1.000000e-07 reg 2.500000e+04 train accuracy: 0.327163 val accuracy: 0.342000\n",
      "lr 1.000000e-07 reg 3.000000e+04 train accuracy: 0.317367 val accuracy: 0.327000\n",
      "lr 1.000000e-07 reg 4.000000e+04 train accuracy: 0.309449 val accuracy: 0.330000\n",
      "lr 1.000000e-07 reg 5.000000e+04 train accuracy: 0.302592 val accuracy: 0.322000\n",
      "lr 2.000000e-07 reg 2.500000e+04 train accuracy: 0.325082 val accuracy: 0.340000\n",
      "lr 2.000000e-07 reg 3.000000e+04 train accuracy: 0.328163 val accuracy: 0.340000\n",
      "lr 2.000000e-07 reg 4.000000e+04 train accuracy: 0.319306 val accuracy: 0.333000\n",
      "lr 2.000000e-07 reg 5.000000e+04 train accuracy: 0.303531 val accuracy: 0.322000\n",
      "lr 3.000000e-07 reg 2.500000e+04 train accuracy: 0.324143 val accuracy: 0.338000\n",
      "lr 3.000000e-07 reg 3.000000e+04 train accuracy: 0.323755 val accuracy: 0.332000\n",
      "lr 3.000000e-07 reg 4.000000e+04 train accuracy: 0.311551 val accuracy: 0.331000\n",
      "lr 3.000000e-07 reg 5.000000e+04 train accuracy: 0.306653 val accuracy: 0.319000\n",
      "lr 4.000000e-07 reg 2.500000e+04 train accuracy: 0.324490 val accuracy: 0.338000\n",
      "lr 4.000000e-07 reg 3.000000e+04 train accuracy: 0.313837 val accuracy: 0.335000\n",
      "lr 4.000000e-07 reg 4.000000e+04 train accuracy: 0.303143 val accuracy: 0.323000\n",
      "lr 4.000000e-07 reg 5.000000e+04 train accuracy: 0.310388 val accuracy: 0.328000\n",
      "lr 5.000000e-07 reg 2.500000e+04 train accuracy: 0.326184 val accuracy: 0.339000\n",
      "lr 5.000000e-07 reg 3.000000e+04 train accuracy: 0.326408 val accuracy: 0.337000\n",
      "lr 5.000000e-07 reg 4.000000e+04 train accuracy: 0.313796 val accuracy: 0.331000\n",
      "lr 5.000000e-07 reg 5.000000e+04 train accuracy: 0.298612 val accuracy: 0.308000\n",
      "lr 1.000000e-07 reg 2.500000e+04 train accuracy: 0.327163 val accuracy: 0.342000\n",
      "lr 1.000000e-07 reg 3.000000e+04 train accuracy: 0.317367 val accuracy: 0.327000\n",
      "lr 1.000000e-07 reg 4.000000e+04 train accuracy: 0.309449 val accuracy: 0.330000\n",
      "lr 1.000000e-07 reg 5.000000e+04 train accuracy: 0.302592 val accuracy: 0.322000\n",
      "lr 2.000000e-07 reg 2.500000e+04 train accuracy: 0.325082 val accuracy: 0.340000\n",
      "lr 2.000000e-07 reg 3.000000e+04 train accuracy: 0.328163 val accuracy: 0.340000\n",
      "lr 2.000000e-07 reg 4.000000e+04 train accuracy: 0.319306 val accuracy: 0.333000\n",
      "lr 2.000000e-07 reg 5.000000e+04 train accuracy: 0.303531 val accuracy: 0.322000\n",
      "lr 3.000000e-07 reg 2.500000e+04 train accuracy: 0.324143 val accuracy: 0.338000\n",
      "lr 3.000000e-07 reg 3.000000e+04 train accuracy: 0.323755 val accuracy: 0.332000\n",
      "lr 3.000000e-07 reg 4.000000e+04 train accuracy: 0.311551 val accuracy: 0.331000\n",
      "lr 3.000000e-07 reg 5.000000e+04 train accuracy: 0.306653 val accuracy: 0.319000\n",
      "lr 4.000000e-07 reg 2.500000e+04 train accuracy: 0.324490 val accuracy: 0.338000\n",
      "lr 4.000000e-07 reg 3.000000e+04 train accuracy: 0.313837 val accuracy: 0.335000\n",
      "lr 4.000000e-07 reg 4.000000e+04 train accuracy: 0.303143 val accuracy: 0.323000\n",
      "lr 4.000000e-07 reg 5.000000e+04 train accuracy: 0.310388 val accuracy: 0.328000\n",
      "lr 5.000000e-07 reg 2.500000e+04 train accuracy: 0.326184 val accuracy: 0.339000\n",
      "lr 5.000000e-07 reg 3.000000e+04 train accuracy: 0.326408 val accuracy: 0.337000\n",
      "lr 5.000000e-07 reg 4.000000e+04 train accuracy: 0.313796 val accuracy: 0.331000\n",
      "lr 5.000000e-07 reg 5.000000e+04 train accuracy: 0.298612 val accuracy: 0.308000\n",
      "best validation accuracy achieved during cross-validation: 0.342000\n"
     ]
    }
   ],
   "source": [
    "# Use the validation set to tune hyperparameters (regularization strength and\n",
    "# learning rate). You should experiment with different ranges for the learning\n",
    "# rates and regularization strengths; if you are careful you should be able to\n",
    "# get a classification accuracy of over 0.35 on the validation set.\n",
    "\n",
    "from cs231n.classifiers import Softmax\n",
    "results = {}\n",
    "best_val = -1\n",
    "best_softmax = None\n",
    "\n",
    "################################################################################\n",
    "# TODO:                                                                        #\n",
    "# Use the validation set to set the learning rate and regularization strength. #\n",
    "# This should be identical to the validation that you did for the SVM; save    #\n",
    "# the best trained softmax classifer in best_softmax.                          #\n",
    "################################################################################\n",
    "\n",
    "# Provided as a reference. You may or may not want to change these hyperparameters\n",
    "learning_rates = [1e-7,2e-7,3e-7,4e-7 ,5e-7]\n",
    "regularization_strengths = [2.5e4,3e4,4e4,5e4]\n",
    "\n",
    "# *****START OF YOUR CODE (DO NOT DELETE/MODIFY THIS LINE)*****\n",
    "\n",
    "for lr in learning_rates:\n",
    "  for reg in regularization_strengths:\n",
    "    softmax=Softmax()\n",
    "    softmax.train(X_train,y_train,lr,reg,num_iters=1500,batch_size=200)\n",
    "    predict_x_train=softmax.predict(X_train)\n",
    "    predict_x_val=softmax.predict(X_val)\n",
    "    acc_train=np.sum(predict_x_train==y_train)/X_train.shape[0]\n",
    "    acc_val=np.sum(predict_x_val==y_val)/X_val.shape[0]\n",
    "    results[(lr, reg)]=(acc_train,acc_val)\n",
    "    print('lr %e reg %e train accuracy: %f val accuracy: %f' % (\n",
    "                lr, reg, acc_train, acc_val))\n",
    "    if(acc_val>best_val):\n",
    "      best_val=acc_val\n",
    "      best_softmax=softmax\n",
    "\n",
    "# *****END OF YOUR CODE (DO NOT DELETE/MODIFY THIS LINE)*****\n",
    "    \n",
    "# Print out results.\n",
    "for lr, reg in sorted(results):\n",
    "    train_accuracy, val_accuracy = results[(lr, reg)]\n",
    "    print('lr %e reg %e train accuracy: %f val accuracy: %f' % (\n",
    "                lr, reg, train_accuracy, val_accuracy))\n",
    "    \n",
    "print('best validation accuracy achieved during cross-validation: %f' % best_val)"
   ]
  },
  {
   "cell_type": "code",
   "execution_count": 12,
   "id": "deb37cc6",
   "metadata": {
    "test": "test"
   },
   "outputs": [
    {
     "name": "stdout",
     "output_type": "stream",
     "text": [
      "softmax on raw pixels final test set accuracy: 0.342000\n"
     ]
    }
   ],
   "source": [
    "# evaluate on test set\n",
    "# Evaluate the best softmax on test set\n",
    "y_test_pred = best_softmax.predict(X_test)\n",
    "test_accuracy = np.mean(y_test == y_test_pred)\n",
    "print('softmax on raw pixels final test set accuracy: %f' % (test_accuracy, ))"
   ]
  },
  {
   "cell_type": "markdown",
   "id": "df501314",
   "metadata": {
    "tags": [
     "pdf-inline"
    ]
   },
   "source": [
    "**Inline Question 2** - *True or False*\n",
    "\n",
    "Suppose the overall training loss is defined as the sum of the per-datapoint loss over all training examples. It is possible to add a new datapoint to a training set that would leave the SVM loss unchanged, but this is not the case with the Softmax classifier loss.\n",
    "\n",
    "$\\color{blue}{\\textit Your Answer:}$T\n",
    "\n",
    "\n",
    "$\\color{blue}{\\textit Your Explanation:}$SVM只需要目标类别比别的类别多一个1\n",
    "\n"
   ]
  },
  {
   "cell_type": "code",
   "execution_count": 13,
   "id": "ade33adc",
   "metadata": {},
   "outputs": [
    {
     "data": {
      "image/png": "[encoded data removed]",
      "text/plain": [
       "<Figure size 720x576 with 10 Axes>"
      ]
     },
     "metadata": {
      "needs_background": "light"
     },
     "output_type": "display_data"
    }
   ],
   "source": [
    "# Visualize the learned weights for each class\n",
    "w = best_softmax.W[:-1,:] # strip out the bias\n",
    "w = w.reshape(32, 32, 3, 10)\n",
    "\n",
    "w_min, w_max = np.min(w), np.max(w)\n",
    "\n",
    "classes = ['plane', 'car', 'bird', 'cat', 'deer', 'dog', 'frog', 'horse', 'ship', 'truck']\n",
    "for i in range(10):\n",
    "    plt.subplot(2, 5, i + 1)\n",
    "    \n",
    "    # Rescale the weights to be between 0 and 255\n",
    "    wimg = 255.0 * (w[:, :, :, i].squeeze() - w_min) / (w_max - w_min)\n",
    "    plt.imshow(wimg.astype('uint8'))\n",
    "    plt.axis('off')\n",
    "    plt.title(classes[i])"
   ]
  },
  {
   "cell_type": "code",
   "execution_count": null,
   "id": "4d5d17f8",
   "metadata": {},
   "outputs": [],
   "source": []
  }
 ],
 "metadata": {
  "kernelspec": {
   "display_name": "Python 3 (ipykernel)",
   "language": "python",
   "name": "python3"
  },
  "language_info": {
   "codemirror_mode": {
    "name": "ipython",
    "version": 3
   },
   "file_extension": ".py",
   "mimetype": "text/x-python",
   "name": "python",
   "nbconvert_exporter": "python",
   "pygments_lexer": "ipython3",
   "version": "3.9.7"
  },
  "toc": {
   "base_numbering": 1,
   "nav_menu": {},
   "number_sections": true,
   "sideBar": true,
   "skip_h1_title": false,
   "title_cell": "Table of Contents",
   "title_sidebar": "Contents",
   "toc_cell": false,
   "toc_position": {},
   "toc_section_display": true,
   "toc_window_display": false
  }
 },
 "nbformat": 4,
 "nbformat_minor": 5
}
